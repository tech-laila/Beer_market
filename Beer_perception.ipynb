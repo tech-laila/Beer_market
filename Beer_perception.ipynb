{
 "cells": [
  {
   "cell_type": "markdown",
   "metadata": {},
   "source": [
    "# Homework Assignment 3 \n",
    "## Data Analysis for STP"
   ]
  },
  {
   "cell_type": "markdown",
   "metadata": {},
   "source": [
    "Task 1). Pick appropriate segmentation bases and run a cluster analysis for segmentation.\n",
    "\n",
    "Task 2). Determine the number of segments and profit each segment.\n",
    "\n",
    "Task 3). Suggest a few segments as target segments and how to reach them.\n",
    "\n",
    "Task 4). Draw a perceptual map with three key perception variables and comment your findings."
   ]
  },
  {
   "cell_type": "markdown",
   "metadata": {},
   "source": [
    "### Brands Segmenation\n",
    "In order to make the segmentation of the different Beer Brands, I transposed the columns and rows in excel to define each cluster based on the characteristics of the beer."
   ]
  },
  {
   "cell_type": "code",
   "execution_count": null,
   "metadata": {},
   "outputs": [],
   "source": []
  },
  {
   "cell_type": "code",
   "execution_count": 1,
   "metadata": {},
   "outputs": [],
   "source": [
    "#missing package installation (in case its missing)\n",
    "#conda install -c districtdatalabs yellowbrick"
   ]
  },
  {
   "cell_type": "code",
   "execution_count": 2,
   "metadata": {},
   "outputs": [],
   "source": [
    "# Libraries to help with reading and manipulating data\n",
    "import numpy as np\n",
    "import pandas as pd\n",
    "\n",
    "# Libraries to help with data visualization\n",
    "import matplotlib.pyplot as plt\n",
    "import seaborn as sns\n",
    "\n",
    "# to scale the data using z-score\n",
    "from sklearn.preprocessing import StandardScaler\n",
    "\n",
    "# to compute distances\n",
    "from scipy.spatial.distance import cdist\n",
    "\n",
    "# to perform k-means clustering and compute silhouette scores\n",
    "from sklearn.cluster import KMeans\n",
    "from sklearn.metrics import silhouette_score\n",
    "\n",
    "# to visualize the elbow curve and silhouette scores\n",
    "from yellowbrick.cluster import KElbowVisualizer, SilhouetteVisualizer"
   ]
  },
  {
   "cell_type": "code",
   "execution_count": 3,
   "metadata": {},
   "outputs": [],
   "source": [
    "# Load the data into pandas dataframe\n",
    "data = pd.read_excel(\"C:/Users/laila/OneDrive/Documentos/UTS/24753 Customer Analytics/A3/Kirin_Perception.xlsx\") "
   ]
  },
  {
   "cell_type": "code",
   "execution_count": 4,
   "metadata": {},
   "outputs": [
    {
     "data": {
      "text/plain": [
       "(11, 18)"
      ]
     },
     "execution_count": 4,
     "metadata": {},
     "output_type": "execute_result"
    }
   ],
   "source": [
    "#Small dataset with 11 observations and 18 attributes\n",
    "data.shape"
   ]
  },
  {
   "cell_type": "code",
   "execution_count": 5,
   "metadata": {},
   "outputs": [
    {
     "data": {
      "text/html": [
       "<div>\n",
       "<style scoped>\n",
       "    .dataframe tbody tr th:only-of-type {\n",
       "        vertical-align: middle;\n",
       "    }\n",
       "\n",
       "    .dataframe tbody tr th {\n",
       "        vertical-align: top;\n",
       "    }\n",
       "\n",
       "    .dataframe thead th {\n",
       "        text-align: right;\n",
       "    }\n",
       "</style>\n",
       "<table border=\"1\" class=\"dataframe\">\n",
       "  <thead>\n",
       "    <tr style=\"text-align: right;\">\n",
       "      <th></th>\n",
       "      <th>Brands</th>\n",
       "      <th>Rich full-bodied taste</th>\n",
       "      <th>Good taste</th>\n",
       "      <th>No aftertaste</th>\n",
       "      <th>Refreshing</th>\n",
       "      <th>Light</th>\n",
       "      <th>Lower price</th>\n",
       "      <th>Good value for money</th>\n",
       "      <th>Prestigious-popular</th>\n",
       "      <th>Masculine</th>\n",
       "      <th>Country with brewing tradition</th>\n",
       "      <th>For young people</th>\n",
       "      <th>Gives buzz</th>\n",
       "      <th>Drink at picnics &amp; outings</th>\n",
       "      <th>Drink at bar</th>\n",
       "      <th>Drink with friends</th>\n",
       "      <th>For  home after work</th>\n",
       "      <th>To serve guests at home</th>\n",
       "    </tr>\n",
       "  </thead>\n",
       "  <tbody>\n",
       "    <tr>\n",
       "      <th>0</th>\n",
       "      <td>Amstel Light</td>\n",
       "      <td>3.1</td>\n",
       "      <td>3.5</td>\n",
       "      <td>3.3</td>\n",
       "      <td>3.5</td>\n",
       "      <td>3.6</td>\n",
       "      <td>2.1</td>\n",
       "      <td>2.8</td>\n",
       "      <td>3.4</td>\n",
       "      <td>2.5</td>\n",
       "      <td>3.5</td>\n",
       "      <td>2.8</td>\n",
       "      <td>2.4</td>\n",
       "      <td>3.3</td>\n",
       "      <td>3.5</td>\n",
       "      <td>3.5</td>\n",
       "      <td>3.2</td>\n",
       "      <td>3.6</td>\n",
       "    </tr>\n",
       "    <tr>\n",
       "      <th>1</th>\n",
       "      <td>Bass</td>\n",
       "      <td>3.8</td>\n",
       "      <td>3.9</td>\n",
       "      <td>2.3</td>\n",
       "      <td>2.8</td>\n",
       "      <td>1.3</td>\n",
       "      <td>1.6</td>\n",
       "      <td>2.7</td>\n",
       "      <td>2.5</td>\n",
       "      <td>3.9</td>\n",
       "      <td>3.3</td>\n",
       "      <td>1.8</td>\n",
       "      <td>3.1</td>\n",
       "      <td>2.4</td>\n",
       "      <td>3.7</td>\n",
       "      <td>3.5</td>\n",
       "      <td>3.8</td>\n",
       "      <td>3.1</td>\n",
       "    </tr>\n",
       "    <tr>\n",
       "      <th>2</th>\n",
       "      <td>Becks</td>\n",
       "      <td>3.7</td>\n",
       "      <td>3.8</td>\n",
       "      <td>2.8</td>\n",
       "      <td>3.5</td>\n",
       "      <td>2.0</td>\n",
       "      <td>1.7</td>\n",
       "      <td>2.6</td>\n",
       "      <td>3.3</td>\n",
       "      <td>3.1</td>\n",
       "      <td>3.8</td>\n",
       "      <td>2.1</td>\n",
       "      <td>2.9</td>\n",
       "      <td>3.1</td>\n",
       "      <td>3.5</td>\n",
       "      <td>3.6</td>\n",
       "      <td>3.4</td>\n",
       "      <td>3.6</td>\n",
       "    </tr>\n",
       "    <tr>\n",
       "      <th>3</th>\n",
       "      <td>Corona</td>\n",
       "      <td>3.3</td>\n",
       "      <td>3.5</td>\n",
       "      <td>3.2</td>\n",
       "      <td>3.6</td>\n",
       "      <td>2.6</td>\n",
       "      <td>2.0</td>\n",
       "      <td>2.7</td>\n",
       "      <td>3.1</td>\n",
       "      <td>2.9</td>\n",
       "      <td>2.3</td>\n",
       "      <td>2.6</td>\n",
       "      <td>2.5</td>\n",
       "      <td>3.3</td>\n",
       "      <td>3.5</td>\n",
       "      <td>3.5</td>\n",
       "      <td>3.5</td>\n",
       "      <td>3.2</td>\n",
       "    </tr>\n",
       "    <tr>\n",
       "      <th>4</th>\n",
       "      <td>Dos Equis</td>\n",
       "      <td>3.8</td>\n",
       "      <td>3.9</td>\n",
       "      <td>2.8</td>\n",
       "      <td>3.6</td>\n",
       "      <td>1.8</td>\n",
       "      <td>2.2</td>\n",
       "      <td>3.4</td>\n",
       "      <td>2.6</td>\n",
       "      <td>2.9</td>\n",
       "      <td>2.7</td>\n",
       "      <td>2.4</td>\n",
       "      <td>2.5</td>\n",
       "      <td>3.5</td>\n",
       "      <td>3.3</td>\n",
       "      <td>3.7</td>\n",
       "      <td>3.4</td>\n",
       "      <td>3.5</td>\n",
       "    </tr>\n",
       "    <tr>\n",
       "      <th>5</th>\n",
       "      <td>Heineken</td>\n",
       "      <td>3.5</td>\n",
       "      <td>3.5</td>\n",
       "      <td>2.9</td>\n",
       "      <td>3.3</td>\n",
       "      <td>1.8</td>\n",
       "      <td>2.2</td>\n",
       "      <td>2.0</td>\n",
       "      <td>3.1</td>\n",
       "      <td>3.3</td>\n",
       "      <td>2.3</td>\n",
       "      <td>2.1</td>\n",
       "      <td>2.9</td>\n",
       "      <td>3.3</td>\n",
       "      <td>3.1</td>\n",
       "      <td>3.5</td>\n",
       "      <td>3.2</td>\n",
       "      <td>3.0</td>\n",
       "    </tr>\n",
       "    <tr>\n",
       "      <th>6</th>\n",
       "      <td>Kirin</td>\n",
       "      <td>3.6</td>\n",
       "      <td>3.6</td>\n",
       "      <td>2.7</td>\n",
       "      <td>3.3</td>\n",
       "      <td>2.3</td>\n",
       "      <td>1.8</td>\n",
       "      <td>2.6</td>\n",
       "      <td>3.1</td>\n",
       "      <td>3.0</td>\n",
       "      <td>3.5</td>\n",
       "      <td>2.4</td>\n",
       "      <td>2.8</td>\n",
       "      <td>3.1</td>\n",
       "      <td>3.4</td>\n",
       "      <td>3.5</td>\n",
       "      <td>3.5</td>\n",
       "      <td>3.5</td>\n",
       "    </tr>\n",
       "    <tr>\n",
       "      <th>7</th>\n",
       "      <td>Molson</td>\n",
       "      <td>2.8</td>\n",
       "      <td>2.9</td>\n",
       "      <td>2.6</td>\n",
       "      <td>2.8</td>\n",
       "      <td>2.2</td>\n",
       "      <td>1.9</td>\n",
       "      <td>2.4</td>\n",
       "      <td>2.5</td>\n",
       "      <td>2.3</td>\n",
       "      <td>2.4</td>\n",
       "      <td>2.2</td>\n",
       "      <td>2.4</td>\n",
       "      <td>2.5</td>\n",
       "      <td>2.6</td>\n",
       "      <td>2.8</td>\n",
       "      <td>2.7</td>\n",
       "      <td>2.8</td>\n",
       "    </tr>\n",
       "    <tr>\n",
       "      <th>8</th>\n",
       "      <td>Moosehd</td>\n",
       "      <td>3.5</td>\n",
       "      <td>3.7</td>\n",
       "      <td>3.1</td>\n",
       "      <td>3.6</td>\n",
       "      <td>2.6</td>\n",
       "      <td>2.1</td>\n",
       "      <td>2.9</td>\n",
       "      <td>3.4</td>\n",
       "      <td>2.8</td>\n",
       "      <td>3.1</td>\n",
       "      <td>2.6</td>\n",
       "      <td>2.8</td>\n",
       "      <td>3.4</td>\n",
       "      <td>3.4</td>\n",
       "      <td>3.5</td>\n",
       "      <td>3.5</td>\n",
       "      <td>3.6</td>\n",
       "    </tr>\n",
       "    <tr>\n",
       "      <th>9</th>\n",
       "      <td>Sapporo</td>\n",
       "      <td>3.4</td>\n",
       "      <td>3.5</td>\n",
       "      <td>2.9</td>\n",
       "      <td>3.0</td>\n",
       "      <td>1.9</td>\n",
       "      <td>1.4</td>\n",
       "      <td>2.0</td>\n",
       "      <td>3.0</td>\n",
       "      <td>2.4</td>\n",
       "      <td>2.9</td>\n",
       "      <td>3.1</td>\n",
       "      <td>3.1</td>\n",
       "      <td>3.3</td>\n",
       "      <td>3.4</td>\n",
       "      <td>3.5</td>\n",
       "      <td>3.5</td>\n",
       "      <td>3.5</td>\n",
       "    </tr>\n",
       "  </tbody>\n",
       "</table>\n",
       "</div>"
      ],
      "text/plain": [
       "         Brands  Rich full-bodied taste  Good taste  No aftertaste  \\\n",
       "0  Amstel Light                     3.1         3.5            3.3   \n",
       "1          Bass                     3.8         3.9            2.3   \n",
       "2         Becks                     3.7         3.8            2.8   \n",
       "3        Corona                     3.3         3.5            3.2   \n",
       "4     Dos Equis                     3.8         3.9            2.8   \n",
       "5      Heineken                     3.5         3.5            2.9   \n",
       "6         Kirin                     3.6         3.6            2.7   \n",
       "7        Molson                     2.8         2.9            2.6   \n",
       "8       Moosehd                     3.5         3.7            3.1   \n",
       "9       Sapporo                     3.4         3.5            2.9   \n",
       "\n",
       "   Refreshing  Light  Lower price  Good value for money  Prestigious-popular  \\\n",
       "0         3.5    3.6          2.1                   2.8                  3.4   \n",
       "1         2.8    1.3          1.6                   2.7                  2.5   \n",
       "2         3.5    2.0          1.7                   2.6                  3.3   \n",
       "3         3.6    2.6          2.0                   2.7                  3.1   \n",
       "4         3.6    1.8          2.2                   3.4                  2.6   \n",
       "5         3.3    1.8          2.2                   2.0                  3.1   \n",
       "6         3.3    2.3          1.8                   2.6                  3.1   \n",
       "7         2.8    2.2          1.9                   2.4                  2.5   \n",
       "8         3.6    2.6          2.1                   2.9                  3.4   \n",
       "9         3.0    1.9          1.4                   2.0                  3.0   \n",
       "\n",
       "   Masculine  Country with brewing tradition  For young people  Gives buzz  \\\n",
       "0        2.5                             3.5               2.8         2.4   \n",
       "1        3.9                             3.3               1.8         3.1   \n",
       "2        3.1                             3.8               2.1         2.9   \n",
       "3        2.9                             2.3               2.6         2.5   \n",
       "4        2.9                             2.7               2.4         2.5   \n",
       "5        3.3                             2.3               2.1         2.9   \n",
       "6        3.0                             3.5               2.4         2.8   \n",
       "7        2.3                             2.4               2.2         2.4   \n",
       "8        2.8                             3.1               2.6         2.8   \n",
       "9        2.4                             2.9               3.1         3.1   \n",
       "\n",
       "   Drink at picnics & outings  Drink at bar  Drink with friends  \\\n",
       "0                         3.3           3.5                 3.5   \n",
       "1                         2.4           3.7                 3.5   \n",
       "2                         3.1           3.5                 3.6   \n",
       "3                         3.3           3.5                 3.5   \n",
       "4                         3.5           3.3                 3.7   \n",
       "5                         3.3           3.1                 3.5   \n",
       "6                         3.1           3.4                 3.5   \n",
       "7                         2.5           2.6                 2.8   \n",
       "8                         3.4           3.4                 3.5   \n",
       "9                         3.3           3.4                 3.5   \n",
       "\n",
       "   For  home after work  To serve guests at home  \n",
       "0                   3.2                      3.6  \n",
       "1                   3.8                      3.1  \n",
       "2                   3.4                      3.6  \n",
       "3                   3.5                      3.2  \n",
       "4                   3.4                      3.5  \n",
       "5                   3.2                      3.0  \n",
       "6                   3.5                      3.5  \n",
       "7                   2.7                      2.8  \n",
       "8                   3.5                      3.6  \n",
       "9                   3.5                      3.5  "
      ]
     },
     "execution_count": 5,
     "metadata": {},
     "output_type": "execute_result"
    }
   ],
   "source": [
    "# Each observation refeer to a Beer Brand, while the attributes refer to customer perception about the beer. \n",
    "data.head(10)"
   ]
  },
  {
   "cell_type": "code",
   "execution_count": 6,
   "metadata": {},
   "outputs": [
    {
     "name": "stdout",
     "output_type": "stream",
     "text": [
      "<class 'pandas.core.frame.DataFrame'>\n",
      "RangeIndex: 11 entries, 0 to 10\n",
      "Data columns (total 18 columns):\n",
      " #   Column                          Non-Null Count  Dtype  \n",
      "---  ------                          --------------  -----  \n",
      " 0   Brands                          11 non-null     object \n",
      " 1   Rich full-bodied taste          11 non-null     float64\n",
      " 2   Good taste                      11 non-null     float64\n",
      " 3   No aftertaste                   11 non-null     float64\n",
      " 4   Refreshing                      11 non-null     float64\n",
      " 5   Light                           11 non-null     float64\n",
      " 6   Lower price                     11 non-null     float64\n",
      " 7   Good value for money            11 non-null     float64\n",
      " 8   Prestigious-popular             11 non-null     float64\n",
      " 9   Masculine                       11 non-null     float64\n",
      " 10  Country with brewing tradition  11 non-null     float64\n",
      " 11  For young people                11 non-null     float64\n",
      " 12  Gives buzz                      11 non-null     float64\n",
      " 13  Drink at picnics & outings      11 non-null     float64\n",
      " 14  Drink at bar                    11 non-null     float64\n",
      " 15  Drink with friends              11 non-null     float64\n",
      " 16  For  home after work            11 non-null     float64\n",
      " 17  To serve guests at home         11 non-null     float64\n",
      "dtypes: float64(17), object(1)\n",
      "memory usage: 1.7+ KB\n"
     ]
    }
   ],
   "source": [
    "#Besides the name of the Brands, all other variables are numerical\n",
    "data.info()"
   ]
  },
  {
   "cell_type": "code",
   "execution_count": 7,
   "metadata": {},
   "outputs": [
    {
     "data": {
      "text/html": [
       "<div>\n",
       "<style scoped>\n",
       "    .dataframe tbody tr th:only-of-type {\n",
       "        vertical-align: middle;\n",
       "    }\n",
       "\n",
       "    .dataframe tbody tr th {\n",
       "        vertical-align: top;\n",
       "    }\n",
       "\n",
       "    .dataframe thead th {\n",
       "        text-align: right;\n",
       "    }\n",
       "</style>\n",
       "<table border=\"1\" class=\"dataframe\">\n",
       "  <thead>\n",
       "    <tr style=\"text-align: right;\">\n",
       "      <th></th>\n",
       "      <th>count</th>\n",
       "      <th>mean</th>\n",
       "      <th>std</th>\n",
       "      <th>min</th>\n",
       "      <th>25%</th>\n",
       "      <th>50%</th>\n",
       "      <th>75%</th>\n",
       "      <th>max</th>\n",
       "    </tr>\n",
       "  </thead>\n",
       "  <tbody>\n",
       "    <tr>\n",
       "      <th>Rich full-bodied taste</th>\n",
       "      <td>11.0</td>\n",
       "      <td>3.418182</td>\n",
       "      <td>0.318805</td>\n",
       "      <td>2.8</td>\n",
       "      <td>3.20</td>\n",
       "      <td>3.5</td>\n",
       "      <td>3.65</td>\n",
       "      <td>3.8</td>\n",
       "    </tr>\n",
       "    <tr>\n",
       "      <th>Good taste</th>\n",
       "      <td>11.0</td>\n",
       "      <td>3.545455</td>\n",
       "      <td>0.297871</td>\n",
       "      <td>2.9</td>\n",
       "      <td>3.50</td>\n",
       "      <td>3.5</td>\n",
       "      <td>3.75</td>\n",
       "      <td>3.9</td>\n",
       "    </tr>\n",
       "    <tr>\n",
       "      <th>No aftertaste</th>\n",
       "      <td>11.0</td>\n",
       "      <td>2.854545</td>\n",
       "      <td>0.280584</td>\n",
       "      <td>2.3</td>\n",
       "      <td>2.75</td>\n",
       "      <td>2.8</td>\n",
       "      <td>3.00</td>\n",
       "      <td>3.3</td>\n",
       "    </tr>\n",
       "    <tr>\n",
       "      <th>Refreshing</th>\n",
       "      <td>11.0</td>\n",
       "      <td>3.281818</td>\n",
       "      <td>0.312468</td>\n",
       "      <td>2.8</td>\n",
       "      <td>3.05</td>\n",
       "      <td>3.3</td>\n",
       "      <td>3.55</td>\n",
       "      <td>3.6</td>\n",
       "    </tr>\n",
       "    <tr>\n",
       "      <th>Light</th>\n",
       "      <td>11.0</td>\n",
       "      <td>2.209091</td>\n",
       "      <td>0.595742</td>\n",
       "      <td>1.3</td>\n",
       "      <td>1.85</td>\n",
       "      <td>2.2</td>\n",
       "      <td>2.45</td>\n",
       "      <td>3.6</td>\n",
       "    </tr>\n",
       "    <tr>\n",
       "      <th>Lower price</th>\n",
       "      <td>11.0</td>\n",
       "      <td>1.890909</td>\n",
       "      <td>0.258668</td>\n",
       "      <td>1.4</td>\n",
       "      <td>1.75</td>\n",
       "      <td>1.9</td>\n",
       "      <td>2.10</td>\n",
       "      <td>2.2</td>\n",
       "    </tr>\n",
       "    <tr>\n",
       "      <th>Good value for money</th>\n",
       "      <td>11.0</td>\n",
       "      <td>2.600000</td>\n",
       "      <td>0.394968</td>\n",
       "      <td>2.0</td>\n",
       "      <td>2.45</td>\n",
       "      <td>2.6</td>\n",
       "      <td>2.75</td>\n",
       "      <td>3.4</td>\n",
       "    </tr>\n",
       "    <tr>\n",
       "      <th>Prestigious-popular</th>\n",
       "      <td>11.0</td>\n",
       "      <td>2.963636</td>\n",
       "      <td>0.352910</td>\n",
       "      <td>2.5</td>\n",
       "      <td>2.60</td>\n",
       "      <td>3.1</td>\n",
       "      <td>3.20</td>\n",
       "      <td>3.4</td>\n",
       "    </tr>\n",
       "    <tr>\n",
       "      <th>Masculine</th>\n",
       "      <td>11.0</td>\n",
       "      <td>2.854545</td>\n",
       "      <td>0.482418</td>\n",
       "      <td>2.3</td>\n",
       "      <td>2.45</td>\n",
       "      <td>2.9</td>\n",
       "      <td>3.05</td>\n",
       "      <td>3.9</td>\n",
       "    </tr>\n",
       "    <tr>\n",
       "      <th>Country with brewing tradition</th>\n",
       "      <td>11.0</td>\n",
       "      <td>2.936364</td>\n",
       "      <td>0.537164</td>\n",
       "      <td>2.3</td>\n",
       "      <td>2.45</td>\n",
       "      <td>2.9</td>\n",
       "      <td>3.40</td>\n",
       "      <td>3.8</td>\n",
       "    </tr>\n",
       "    <tr>\n",
       "      <th>For young people</th>\n",
       "      <td>11.0</td>\n",
       "      <td>2.400000</td>\n",
       "      <td>0.363318</td>\n",
       "      <td>1.8</td>\n",
       "      <td>2.15</td>\n",
       "      <td>2.4</td>\n",
       "      <td>2.60</td>\n",
       "      <td>3.1</td>\n",
       "    </tr>\n",
       "    <tr>\n",
       "      <th>Gives buzz</th>\n",
       "      <td>11.0</td>\n",
       "      <td>2.718182</td>\n",
       "      <td>0.267650</td>\n",
       "      <td>2.4</td>\n",
       "      <td>2.50</td>\n",
       "      <td>2.8</td>\n",
       "      <td>2.90</td>\n",
       "      <td>3.1</td>\n",
       "    </tr>\n",
       "    <tr>\n",
       "      <th>Drink at picnics &amp; outings</th>\n",
       "      <td>11.0</td>\n",
       "      <td>3.072727</td>\n",
       "      <td>0.387533</td>\n",
       "      <td>2.4</td>\n",
       "      <td>2.85</td>\n",
       "      <td>3.3</td>\n",
       "      <td>3.30</td>\n",
       "      <td>3.5</td>\n",
       "    </tr>\n",
       "    <tr>\n",
       "      <th>Drink at bar</th>\n",
       "      <td>11.0</td>\n",
       "      <td>3.281818</td>\n",
       "      <td>0.345885</td>\n",
       "      <td>2.6</td>\n",
       "      <td>3.20</td>\n",
       "      <td>3.4</td>\n",
       "      <td>3.50</td>\n",
       "      <td>3.7</td>\n",
       "    </tr>\n",
       "    <tr>\n",
       "      <th>Drink with friends</th>\n",
       "      <td>11.0</td>\n",
       "      <td>3.427273</td>\n",
       "      <td>0.253341</td>\n",
       "      <td>2.8</td>\n",
       "      <td>3.50</td>\n",
       "      <td>3.5</td>\n",
       "      <td>3.50</td>\n",
       "      <td>3.7</td>\n",
       "    </tr>\n",
       "    <tr>\n",
       "      <th>For  home after work</th>\n",
       "      <td>11.0</td>\n",
       "      <td>3.336364</td>\n",
       "      <td>0.297566</td>\n",
       "      <td>2.7</td>\n",
       "      <td>3.20</td>\n",
       "      <td>3.4</td>\n",
       "      <td>3.50</td>\n",
       "      <td>3.8</td>\n",
       "    </tr>\n",
       "    <tr>\n",
       "      <th>To serve guests at home</th>\n",
       "      <td>11.0</td>\n",
       "      <td>3.318182</td>\n",
       "      <td>0.285721</td>\n",
       "      <td>2.8</td>\n",
       "      <td>3.10</td>\n",
       "      <td>3.5</td>\n",
       "      <td>3.55</td>\n",
       "      <td>3.6</td>\n",
       "    </tr>\n",
       "  </tbody>\n",
       "</table>\n",
       "</div>"
      ],
      "text/plain": [
       "                                count      mean       std  min   25%  50%  \\\n",
       "Rich full-bodied taste           11.0  3.418182  0.318805  2.8  3.20  3.5   \n",
       "Good taste                       11.0  3.545455  0.297871  2.9  3.50  3.5   \n",
       "No aftertaste                    11.0  2.854545  0.280584  2.3  2.75  2.8   \n",
       "Refreshing                       11.0  3.281818  0.312468  2.8  3.05  3.3   \n",
       "Light                            11.0  2.209091  0.595742  1.3  1.85  2.2   \n",
       "Lower price                      11.0  1.890909  0.258668  1.4  1.75  1.9   \n",
       "Good value for money             11.0  2.600000  0.394968  2.0  2.45  2.6   \n",
       "Prestigious-popular              11.0  2.963636  0.352910  2.5  2.60  3.1   \n",
       "Masculine                        11.0  2.854545  0.482418  2.3  2.45  2.9   \n",
       "Country with brewing tradition   11.0  2.936364  0.537164  2.3  2.45  2.9   \n",
       "For young people                 11.0  2.400000  0.363318  1.8  2.15  2.4   \n",
       "Gives buzz                       11.0  2.718182  0.267650  2.4  2.50  2.8   \n",
       "Drink at picnics & outings       11.0  3.072727  0.387533  2.4  2.85  3.3   \n",
       "Drink at bar                     11.0  3.281818  0.345885  2.6  3.20  3.4   \n",
       "Drink with friends               11.0  3.427273  0.253341  2.8  3.50  3.5   \n",
       "For  home after work             11.0  3.336364  0.297566  2.7  3.20  3.4   \n",
       "To serve guests at home          11.0  3.318182  0.285721  2.8  3.10  3.5   \n",
       "\n",
       "                                 75%  max  \n",
       "Rich full-bodied taste          3.65  3.8  \n",
       "Good taste                      3.75  3.9  \n",
       "No aftertaste                   3.00  3.3  \n",
       "Refreshing                      3.55  3.6  \n",
       "Light                           2.45  3.6  \n",
       "Lower price                     2.10  2.2  \n",
       "Good value for money            2.75  3.4  \n",
       "Prestigious-popular             3.20  3.4  \n",
       "Masculine                       3.05  3.9  \n",
       "Country with brewing tradition  3.40  3.8  \n",
       "For young people                2.60  3.1  \n",
       "Gives buzz                      2.90  3.1  \n",
       "Drink at picnics & outings      3.30  3.5  \n",
       "Drink at bar                    3.50  3.7  \n",
       "Drink with friends              3.50  3.7  \n",
       "For  home after work            3.50  3.8  \n",
       "To serve guests at home         3.55  3.6  "
      ]
     },
     "execution_count": 7,
     "metadata": {},
     "output_type": "execute_result"
    }
   ],
   "source": [
    "#statistical data on each attribute\n",
    "data.describe().T"
   ]
  },
  {
   "cell_type": "markdown",
   "metadata": {},
   "source": [
    "* All 17 numerical attributes have values between 1.3 and 3.9, being all marked in similar levels and no big variances that might affect the data\n",
    "* Mean values vary between 1.89 and 3.427, with the Lower price being the smallest of the attributes, while Drink with friends is the highest"
   ]
  },
  {
   "cell_type": "code",
   "execution_count": 8,
   "metadata": {},
   "outputs": [],
   "source": [
    "# copying the data to another variable to avoid any changes to original data\n",
    "df = data.copy()"
   ]
  },
  {
   "cell_type": "markdown",
   "metadata": {},
   "source": [
    "### Clustering"
   ]
  },
  {
   "cell_type": "code",
   "execution_count": 9,
   "metadata": {},
   "outputs": [],
   "source": [
    "# selecting numerical columns\n",
    "num_col = df.select_dtypes(include=np.number).columns.tolist()\n",
    "# Scaling the data set before clustering to avoid influence of extreme values (just for security)\n",
    "scaler = StandardScaler()\n",
    "subset = df[num_col].copy()\n",
    "subset_scaled = scaler.fit_transform(subset)"
   ]
  },
  {
   "cell_type": "code",
   "execution_count": 10,
   "metadata": {},
   "outputs": [],
   "source": [
    "# Creating a dataframe from the scaled data\n",
    "subset_scaled_df = pd.DataFrame(subset_scaled, columns=subset.columns)"
   ]
  },
  {
   "cell_type": "code",
   "execution_count": 11,
   "metadata": {},
   "outputs": [
    {
     "name": "stdout",
     "output_type": "stream",
     "text": [
      "Number of Clusters: 1 \tAverage Distortion: 3.9203346779670025\n",
      "Number of Clusters: 2 \tAverage Distortion: 3.041203855070359\n",
      "Number of Clusters: 3 \tAverage Distortion: 2.4643890513028843\n",
      "Number of Clusters: 4 \tAverage Distortion: 2.119266020924678\n",
      "Number of Clusters: 5 \tAverage Distortion: 1.7408274408600974\n",
      "Number of Clusters: 6 \tAverage Distortion: 1.3781383775655012\n",
      "Number of Clusters: 7 \tAverage Distortion: 0.9696998118231801\n",
      "Number of Clusters: 8 \tAverage Distortion: 0.7043269474486485\n"
     ]
    },
    {
     "data": {
      "text/plain": [
       "Text(0.5, 1.0, 'Selecting k with the Elbow Method')"
      ]
     },
     "execution_count": 11,
     "metadata": {},
     "output_type": "execute_result"
    },
    {
     "data": {
      "image/png": "[encoded data removed]",
      "text/plain": [
       "<Figure size 576x396 with 1 Axes>"
      ]
     },
     "metadata": {},
     "output_type": "display_data"
    }
   ],
   "source": [
    "#Checking the distortion values for different clusters range (Elbow method)\n",
    "clusters = range(1, 9)\n",
    "meanDistortions = []\n",
    "\n",
    "for k in clusters:\n",
    "    model = KMeans(n_clusters=k)\n",
    "    model.fit(subset_scaled_df)\n",
    "    prediction = model.predict(subset_scaled_df)\n",
    "    distortion = (\n",
    "        sum(\n",
    "            np.min(cdist(subset_scaled_df, model.cluster_centers_, \"euclidean\"), axis=1)\n",
    "        )\n",
    "        / subset_scaled_df.shape[0]\n",
    "    )\n",
    "\n",
    "    meanDistortions.append(distortion)\n",
    "\n",
    "    print(\"Number of Clusters:\", k, \"\\tAverage Distortion:\", distortion)\n",
    "\n",
    "plt.plot(clusters, meanDistortions, \"bx-\")\n",
    "plt.xlabel(\"k\")\n",
    "plt.ylabel(\"Average Distortion\")\n",
    "plt.title(\"Selecting k with the Elbow Method\", fontsize=20)"
   ]
  },
  {
   "cell_type": "markdown",
   "metadata": {},
   "source": [
    "* It is not vizually clear where the Elbow method provides better distortion rates without over detailing the clusters, though since dataset is very small, the number of clusters should not be high to avoid clusters with only one or two observations."
   ]
  },
  {
   "cell_type": "code",
   "execution_count": 12,
   "metadata": {},
   "outputs": [
    {
     "name": "stdout",
     "output_type": "stream",
     "text": [
      "For n_clusters = 2, silhouette score is 0.34250910347986846\n",
      "For n_clusters = 3, silhouette score is 0.31999293557235675\n",
      "For n_clusters = 4, silhouette score is 0.2128188336259944\n",
      "For n_clusters = 5, silhouette score is 0.20364988714680915\n",
      "For n_clusters = 6, silhouette score is 0.2184221141788222\n",
      "For n_clusters = 7, silhouette score is 0.23696760099150102\n",
      "For n_clusters = 8, silhouette score is 0.21108380601650145\n",
      "For n_clusters = 9, silhouette score is 0.16326229972101666\n"
     ]
    },
    {
     "data": {
      "text/plain": [
       "[<matplotlib.lines.Line2D at 0x1ba4c085370>]"
      ]
     },
     "execution_count": 12,
     "metadata": {},
     "output_type": "execute_result"
    },
    {
     "data": {
      "image/png": "[encoded data removed]",
      "text/plain": [
       "<Figure size 576x396 with 1 Axes>"
      ]
     },
     "metadata": {},
     "output_type": "display_data"
    }
   ],
   "source": [
    "#Check the Shilhouette Score for further insights on the number of clusters\n",
    "sil_score = []\n",
    "cluster_list = list(range(2, 10))\n",
    "for n_clusters in cluster_list:\n",
    "    clusterer = KMeans(n_clusters=n_clusters)\n",
    "    preds = clusterer.fit_predict((subset_scaled_df))\n",
    "    # centers = clusterer.cluster_centers_\n",
    "    score = silhouette_score(subset_scaled_df, preds)\n",
    "    sil_score.append(score)\n",
    "    print(\"For n_clusters = {}, silhouette score is {}\".format(n_clusters, score))\n",
    "\n",
    "plt.plot(cluster_list, sil_score)"
   ]
  },
  {
   "cell_type": "markdown",
   "metadata": {},
   "source": [
    "* Silhouette Score has good improvement within 4 clusters, being a reasonable value to check the Silhouette plot.\n",
    "* Silhouette Score for 9 clusters is also good, though it will have very small number of observations in each group due to the size of our dataframe. Therefore the clustering effect will be limited and almost individualized.\n",
    "\n",
    "### For a visual observation of the Clusters 3, 4 and 5, check the graphs below."
   ]
  },
  {
   "cell_type": "code",
   "execution_count": 13,
   "metadata": {},
   "outputs": [
    {
     "data": {
      "image/png": "[encoded data removed]",
      "text/plain": [
       "<Figure size 576x396 with 1 Axes>"
      ]
     },
     "metadata": {},
     "output_type": "display_data"
    },
    {
     "data": {
      "text/plain": [
       "<AxesSubplot:title={'center':'Silhouette Plot of KMeans Clustering for 11 Samples in 4 Centers'}, xlabel='silhouette coefficient values', ylabel='cluster label'>"
      ]
     },
     "execution_count": 13,
     "metadata": {},
     "output_type": "execute_result"
    }
   ],
   "source": [
    "# finding optimal no. of clusters with silhouette coefficients\n",
    "visualizer = SilhouetteVisualizer(KMeans(4, random_state=1))\n",
    "visualizer.fit(subset_scaled_df)\n",
    "visualizer.show()"
   ]
  },
  {
   "cell_type": "code",
   "execution_count": 14,
   "metadata": {},
   "outputs": [
    {
     "data": {
      "image/png": "[encoded data removed]",
      "text/plain": [
       "<Figure size 576x396 with 1 Axes>"
      ]
     },
     "metadata": {},
     "output_type": "display_data"
    },
    {
     "data": {
      "text/plain": [
       "<AxesSubplot:title={'center':'Silhouette Plot of KMeans Clustering for 11 Samples in 5 Centers'}, xlabel='silhouette coefficient values', ylabel='cluster label'>"
      ]
     },
     "execution_count": 14,
     "metadata": {},
     "output_type": "execute_result"
    }
   ],
   "source": [
    "# finding optimal no. of clusters with silhouette coefficients\n",
    "visualizer = SilhouetteVisualizer(KMeans(5, random_state=1))\n",
    "visualizer.fit(subset_scaled_df)\n",
    "visualizer.show()"
   ]
  },
  {
   "cell_type": "code",
   "execution_count": 15,
   "metadata": {},
   "outputs": [
    {
     "data": {
      "image/png": "[encoded data removed]",
      "text/plain": [
       "<Figure size 576x396 with 1 Axes>"
      ]
     },
     "metadata": {},
     "output_type": "display_data"
    },
    {
     "data": {
      "text/plain": [
       "<AxesSubplot:title={'center':'Silhouette Plot of KMeans Clustering for 11 Samples in 3 Centers'}, xlabel='silhouette coefficient values', ylabel='cluster label'>"
      ]
     },
     "execution_count": 15,
     "metadata": {},
     "output_type": "execute_result"
    }
   ],
   "source": [
    "# finding optimal no. of clusters with silhouette coefficients\n",
    "visualizer = SilhouetteVisualizer(KMeans(3, random_state=1))\n",
    "visualizer.fit(subset_scaled_df)\n",
    "visualizer.show()"
   ]
  },
  {
   "cell_type": "markdown",
   "metadata": {},
   "source": [
    "* In all graphs above the clusters lables do not surpass the average silhouette score. It would be preferable if all cluster labels values are over the Average Silhouette Score, which would certify that the clustering is working properly and the data points group well into the categories (clusters) created. \n",
    "* Despite of that, 4 cluster still looks better than the others."
   ]
  },
  {
   "cell_type": "markdown",
   "metadata": {},
   "source": [
    "### Using 4 Clusters to define the data"
   ]
  },
  {
   "cell_type": "code",
   "execution_count": 16,
   "metadata": {},
   "outputs": [
    {
     "data": {
      "text/plain": [
       "KMeans(n_clusters=5, random_state=0)"
      ]
     },
     "execution_count": 16,
     "metadata": {},
     "output_type": "execute_result"
    }
   ],
   "source": [
    "kmeans = KMeans(n_clusters=5, random_state=0)\n",
    "kmeans.fit(subset_scaled_df)"
   ]
  },
  {
   "cell_type": "code",
   "execution_count": 17,
   "metadata": {},
   "outputs": [],
   "source": [
    "# adding kmeans cluster labels to the original dataframe\n",
    "df[\"K_means_segments\"] = kmeans.labels_"
   ]
  },
  {
   "cell_type": "code",
   "execution_count": 18,
   "metadata": {},
   "outputs": [],
   "source": [
    "cluster_profile = df.groupby(\"K_means_segments\").mean()"
   ]
  },
  {
   "cell_type": "code",
   "execution_count": 19,
   "metadata": {},
   "outputs": [],
   "source": [
    "cluster_profile[\"count_in_each_segment\"] = (\n",
    "    df.groupby(\"K_means_segments\")[\"Good taste\"].count().values\n",
    ")"
   ]
  },
  {
   "cell_type": "code",
   "execution_count": 20,
   "metadata": {},
   "outputs": [
    {
     "data": {
      "text/html": [
       "<style  type=\"text/css\" >\n",
       "#T_e0c11aae_4e01_11ed_9a14_204ef6780f12row0_col0,#T_e0c11aae_4e01_11ed_9a14_204ef6780f12row0_col1,#T_e0c11aae_4e01_11ed_9a14_204ef6780f12row0_col8,#T_e0c11aae_4e01_11ed_9a14_204ef6780f12row0_col11,#T_e0c11aae_4e01_11ed_9a14_204ef6780f12row0_col13,#T_e0c11aae_4e01_11ed_9a14_204ef6780f12row0_col15,#T_e0c11aae_4e01_11ed_9a14_204ef6780f12row1_col2,#T_e0c11aae_4e01_11ed_9a14_204ef6780f12row1_col3,#T_e0c11aae_4e01_11ed_9a14_204ef6780f12row1_col4,#T_e0c11aae_4e01_11ed_9a14_204ef6780f12row1_col6,#T_e0c11aae_4e01_11ed_9a14_204ef6780f12row1_col10,#T_e0c11aae_4e01_11ed_9a14_204ef6780f12row1_col12,#T_e0c11aae_4e01_11ed_9a14_204ef6780f12row1_col14,#T_e0c11aae_4e01_11ed_9a14_204ef6780f12row1_col17,#T_e0c11aae_4e01_11ed_9a14_204ef6780f12row2_col7,#T_e0c11aae_4e01_11ed_9a14_204ef6780f12row2_col9,#T_e0c11aae_4e01_11ed_9a14_204ef6780f12row2_col16,#T_e0c11aae_4e01_11ed_9a14_204ef6780f12row3_col5{\n",
       "            background-color:  lightgreen;\n",
       "        }</style><table id=\"T_e0c11aae_4e01_11ed_9a14_204ef6780f12\" ><thead>    <tr>        <th class=\"blank level0\" ></th>        <th class=\"col_heading level0 col0\" >Rich full-bodied taste</th>        <th class=\"col_heading level0 col1\" >Good taste</th>        <th class=\"col_heading level0 col2\" >No aftertaste</th>        <th class=\"col_heading level0 col3\" >Refreshing</th>        <th class=\"col_heading level0 col4\" >Light</th>        <th class=\"col_heading level0 col5\" >Lower price</th>        <th class=\"col_heading level0 col6\" >Good value for money</th>        <th class=\"col_heading level0 col7\" >Prestigious-popular</th>        <th class=\"col_heading level0 col8\" >Masculine</th>        <th class=\"col_heading level0 col9\" >Country with brewing tradition</th>        <th class=\"col_heading level0 col10\" >For young people</th>        <th class=\"col_heading level0 col11\" >Gives buzz</th>        <th class=\"col_heading level0 col12\" >Drink at picnics & outings</th>        <th class=\"col_heading level0 col13\" >Drink at bar</th>        <th class=\"col_heading level0 col14\" >Drink with friends</th>        <th class=\"col_heading level0 col15\" >For  home after work</th>        <th class=\"col_heading level0 col16\" >To serve guests at home</th>        <th class=\"col_heading level0 col17\" >count_in_each_segment</th>    </tr>    <tr>        <th class=\"index_name level0\" >K_means_segments</th>        <th class=\"blank\" ></th>        <th class=\"blank\" ></th>        <th class=\"blank\" ></th>        <th class=\"blank\" ></th>        <th class=\"blank\" ></th>        <th class=\"blank\" ></th>        <th class=\"blank\" ></th>        <th class=\"blank\" ></th>        <th class=\"blank\" ></th>        <th class=\"blank\" ></th>        <th class=\"blank\" ></th>        <th class=\"blank\" ></th>        <th class=\"blank\" ></th>        <th class=\"blank\" ></th>        <th class=\"blank\" ></th>        <th class=\"blank\" ></th>        <th class=\"blank\" ></th>        <th class=\"blank\" ></th>    </tr></thead><tbody>\n",
       "                <tr>\n",
       "                        <th id=\"T_e0c11aae_4e01_11ed_9a14_204ef6780f12level0_row0\" class=\"row_heading level0 row0\" >0</th>\n",
       "                        <td id=\"T_e0c11aae_4e01_11ed_9a14_204ef6780f12row0_col0\" class=\"data row0 col0\" >3.800000</td>\n",
       "                        <td id=\"T_e0c11aae_4e01_11ed_9a14_204ef6780f12row0_col1\" class=\"data row0 col1\" >3.900000</td>\n",
       "                        <td id=\"T_e0c11aae_4e01_11ed_9a14_204ef6780f12row0_col2\" class=\"data row0 col2\" >2.300000</td>\n",
       "                        <td id=\"T_e0c11aae_4e01_11ed_9a14_204ef6780f12row0_col3\" class=\"data row0 col3\" >2.800000</td>\n",
       "                        <td id=\"T_e0c11aae_4e01_11ed_9a14_204ef6780f12row0_col4\" class=\"data row0 col4\" >1.300000</td>\n",
       "                        <td id=\"T_e0c11aae_4e01_11ed_9a14_204ef6780f12row0_col5\" class=\"data row0 col5\" >1.600000</td>\n",
       "                        <td id=\"T_e0c11aae_4e01_11ed_9a14_204ef6780f12row0_col6\" class=\"data row0 col6\" >2.700000</td>\n",
       "                        <td id=\"T_e0c11aae_4e01_11ed_9a14_204ef6780f12row0_col7\" class=\"data row0 col7\" >2.500000</td>\n",
       "                        <td id=\"T_e0c11aae_4e01_11ed_9a14_204ef6780f12row0_col8\" class=\"data row0 col8\" >3.900000</td>\n",
       "                        <td id=\"T_e0c11aae_4e01_11ed_9a14_204ef6780f12row0_col9\" class=\"data row0 col9\" >3.300000</td>\n",
       "                        <td id=\"T_e0c11aae_4e01_11ed_9a14_204ef6780f12row0_col10\" class=\"data row0 col10\" >1.800000</td>\n",
       "                        <td id=\"T_e0c11aae_4e01_11ed_9a14_204ef6780f12row0_col11\" class=\"data row0 col11\" >3.100000</td>\n",
       "                        <td id=\"T_e0c11aae_4e01_11ed_9a14_204ef6780f12row0_col12\" class=\"data row0 col12\" >2.400000</td>\n",
       "                        <td id=\"T_e0c11aae_4e01_11ed_9a14_204ef6780f12row0_col13\" class=\"data row0 col13\" >3.700000</td>\n",
       "                        <td id=\"T_e0c11aae_4e01_11ed_9a14_204ef6780f12row0_col14\" class=\"data row0 col14\" >3.500000</td>\n",
       "                        <td id=\"T_e0c11aae_4e01_11ed_9a14_204ef6780f12row0_col15\" class=\"data row0 col15\" >3.800000</td>\n",
       "                        <td id=\"T_e0c11aae_4e01_11ed_9a14_204ef6780f12row0_col16\" class=\"data row0 col16\" >3.100000</td>\n",
       "                        <td id=\"T_e0c11aae_4e01_11ed_9a14_204ef6780f12row0_col17\" class=\"data row0 col17\" >1</td>\n",
       "            </tr>\n",
       "            <tr>\n",
       "                        <th id=\"T_e0c11aae_4e01_11ed_9a14_204ef6780f12level0_row1\" class=\"row_heading level0 row1\" >1</th>\n",
       "                        <td id=\"T_e0c11aae_4e01_11ed_9a14_204ef6780f12row1_col0\" class=\"data row1 col0\" >3.425000</td>\n",
       "                        <td id=\"T_e0c11aae_4e01_11ed_9a14_204ef6780f12row1_col1\" class=\"data row1 col1\" >3.650000</td>\n",
       "                        <td id=\"T_e0c11aae_4e01_11ed_9a14_204ef6780f12row1_col2\" class=\"data row1 col2\" >3.100000</td>\n",
       "                        <td id=\"T_e0c11aae_4e01_11ed_9a14_204ef6780f12row1_col3\" class=\"data row1 col3\" >3.575000</td>\n",
       "                        <td id=\"T_e0c11aae_4e01_11ed_9a14_204ef6780f12row1_col4\" class=\"data row1 col4\" >2.650000</td>\n",
       "                        <td id=\"T_e0c11aae_4e01_11ed_9a14_204ef6780f12row1_col5\" class=\"data row1 col5\" >2.100000</td>\n",
       "                        <td id=\"T_e0c11aae_4e01_11ed_9a14_204ef6780f12row1_col6\" class=\"data row1 col6\" >2.950000</td>\n",
       "                        <td id=\"T_e0c11aae_4e01_11ed_9a14_204ef6780f12row1_col7\" class=\"data row1 col7\" >3.125000</td>\n",
       "                        <td id=\"T_e0c11aae_4e01_11ed_9a14_204ef6780f12row1_col8\" class=\"data row1 col8\" >2.775000</td>\n",
       "                        <td id=\"T_e0c11aae_4e01_11ed_9a14_204ef6780f12row1_col9\" class=\"data row1 col9\" >2.900000</td>\n",
       "                        <td id=\"T_e0c11aae_4e01_11ed_9a14_204ef6780f12row1_col10\" class=\"data row1 col10\" >2.600000</td>\n",
       "                        <td id=\"T_e0c11aae_4e01_11ed_9a14_204ef6780f12row1_col11\" class=\"data row1 col11\" >2.550000</td>\n",
       "                        <td id=\"T_e0c11aae_4e01_11ed_9a14_204ef6780f12row1_col12\" class=\"data row1 col12\" >3.375000</td>\n",
       "                        <td id=\"T_e0c11aae_4e01_11ed_9a14_204ef6780f12row1_col13\" class=\"data row1 col13\" >3.425000</td>\n",
       "                        <td id=\"T_e0c11aae_4e01_11ed_9a14_204ef6780f12row1_col14\" class=\"data row1 col14\" >3.550000</td>\n",
       "                        <td id=\"T_e0c11aae_4e01_11ed_9a14_204ef6780f12row1_col15\" class=\"data row1 col15\" >3.400000</td>\n",
       "                        <td id=\"T_e0c11aae_4e01_11ed_9a14_204ef6780f12row1_col16\" class=\"data row1 col16\" >3.475000</td>\n",
       "                        <td id=\"T_e0c11aae_4e01_11ed_9a14_204ef6780f12row1_col17\" class=\"data row1 col17\" >4</td>\n",
       "            </tr>\n",
       "            <tr>\n",
       "                        <th id=\"T_e0c11aae_4e01_11ed_9a14_204ef6780f12level0_row2\" class=\"row_heading level0 row2\" >2</th>\n",
       "                        <td id=\"T_e0c11aae_4e01_11ed_9a14_204ef6780f12row2_col0\" class=\"data row2 col0\" >3.566667</td>\n",
       "                        <td id=\"T_e0c11aae_4e01_11ed_9a14_204ef6780f12row2_col1\" class=\"data row2 col1\" >3.633333</td>\n",
       "                        <td id=\"T_e0c11aae_4e01_11ed_9a14_204ef6780f12row2_col2\" class=\"data row2 col2\" >2.800000</td>\n",
       "                        <td id=\"T_e0c11aae_4e01_11ed_9a14_204ef6780f12row2_col3\" class=\"data row2 col3\" >3.266667</td>\n",
       "                        <td id=\"T_e0c11aae_4e01_11ed_9a14_204ef6780f12row2_col4\" class=\"data row2 col4\" >2.066667</td>\n",
       "                        <td id=\"T_e0c11aae_4e01_11ed_9a14_204ef6780f12row2_col5\" class=\"data row2 col5\" >1.633333</td>\n",
       "                        <td id=\"T_e0c11aae_4e01_11ed_9a14_204ef6780f12row2_col6\" class=\"data row2 col6\" >2.400000</td>\n",
       "                        <td id=\"T_e0c11aae_4e01_11ed_9a14_204ef6780f12row2_col7\" class=\"data row2 col7\" >3.133333</td>\n",
       "                        <td id=\"T_e0c11aae_4e01_11ed_9a14_204ef6780f12row2_col8\" class=\"data row2 col8\" >2.833333</td>\n",
       "                        <td id=\"T_e0c11aae_4e01_11ed_9a14_204ef6780f12row2_col9\" class=\"data row2 col9\" >3.400000</td>\n",
       "                        <td id=\"T_e0c11aae_4e01_11ed_9a14_204ef6780f12row2_col10\" class=\"data row2 col10\" >2.533333</td>\n",
       "                        <td id=\"T_e0c11aae_4e01_11ed_9a14_204ef6780f12row2_col11\" class=\"data row2 col11\" >2.933333</td>\n",
       "                        <td id=\"T_e0c11aae_4e01_11ed_9a14_204ef6780f12row2_col12\" class=\"data row2 col12\" >3.166667</td>\n",
       "                        <td id=\"T_e0c11aae_4e01_11ed_9a14_204ef6780f12row2_col13\" class=\"data row2 col13\" >3.433333</td>\n",
       "                        <td id=\"T_e0c11aae_4e01_11ed_9a14_204ef6780f12row2_col14\" class=\"data row2 col14\" >3.533333</td>\n",
       "                        <td id=\"T_e0c11aae_4e01_11ed_9a14_204ef6780f12row2_col15\" class=\"data row2 col15\" >3.466667</td>\n",
       "                        <td id=\"T_e0c11aae_4e01_11ed_9a14_204ef6780f12row2_col16\" class=\"data row2 col16\" >3.533333</td>\n",
       "                        <td id=\"T_e0c11aae_4e01_11ed_9a14_204ef6780f12row2_col17\" class=\"data row2 col17\" >3</td>\n",
       "            </tr>\n",
       "            <tr>\n",
       "                        <th id=\"T_e0c11aae_4e01_11ed_9a14_204ef6780f12level0_row3\" class=\"row_heading level0 row3\" >3</th>\n",
       "                        <td id=\"T_e0c11aae_4e01_11ed_9a14_204ef6780f12row3_col0\" class=\"data row3 col0\" >3.500000</td>\n",
       "                        <td id=\"T_e0c11aae_4e01_11ed_9a14_204ef6780f12row3_col1\" class=\"data row3 col1\" >3.500000</td>\n",
       "                        <td id=\"T_e0c11aae_4e01_11ed_9a14_204ef6780f12row3_col2\" class=\"data row3 col2\" >2.900000</td>\n",
       "                        <td id=\"T_e0c11aae_4e01_11ed_9a14_204ef6780f12row3_col3\" class=\"data row3 col3\" >3.300000</td>\n",
       "                        <td id=\"T_e0c11aae_4e01_11ed_9a14_204ef6780f12row3_col4\" class=\"data row3 col4\" >1.800000</td>\n",
       "                        <td id=\"T_e0c11aae_4e01_11ed_9a14_204ef6780f12row3_col5\" class=\"data row3 col5\" >2.200000</td>\n",
       "                        <td id=\"T_e0c11aae_4e01_11ed_9a14_204ef6780f12row3_col6\" class=\"data row3 col6\" >2.000000</td>\n",
       "                        <td id=\"T_e0c11aae_4e01_11ed_9a14_204ef6780f12row3_col7\" class=\"data row3 col7\" >3.100000</td>\n",
       "                        <td id=\"T_e0c11aae_4e01_11ed_9a14_204ef6780f12row3_col8\" class=\"data row3 col8\" >3.300000</td>\n",
       "                        <td id=\"T_e0c11aae_4e01_11ed_9a14_204ef6780f12row3_col9\" class=\"data row3 col9\" >2.300000</td>\n",
       "                        <td id=\"T_e0c11aae_4e01_11ed_9a14_204ef6780f12row3_col10\" class=\"data row3 col10\" >2.100000</td>\n",
       "                        <td id=\"T_e0c11aae_4e01_11ed_9a14_204ef6780f12row3_col11\" class=\"data row3 col11\" >2.900000</td>\n",
       "                        <td id=\"T_e0c11aae_4e01_11ed_9a14_204ef6780f12row3_col12\" class=\"data row3 col12\" >3.300000</td>\n",
       "                        <td id=\"T_e0c11aae_4e01_11ed_9a14_204ef6780f12row3_col13\" class=\"data row3 col13\" >3.100000</td>\n",
       "                        <td id=\"T_e0c11aae_4e01_11ed_9a14_204ef6780f12row3_col14\" class=\"data row3 col14\" >3.500000</td>\n",
       "                        <td id=\"T_e0c11aae_4e01_11ed_9a14_204ef6780f12row3_col15\" class=\"data row3 col15\" >3.200000</td>\n",
       "                        <td id=\"T_e0c11aae_4e01_11ed_9a14_204ef6780f12row3_col16\" class=\"data row3 col16\" >3.000000</td>\n",
       "                        <td id=\"T_e0c11aae_4e01_11ed_9a14_204ef6780f12row3_col17\" class=\"data row3 col17\" >1</td>\n",
       "            </tr>\n",
       "            <tr>\n",
       "                        <th id=\"T_e0c11aae_4e01_11ed_9a14_204ef6780f12level0_row4\" class=\"row_heading level0 row4\" >4</th>\n",
       "                        <td id=\"T_e0c11aae_4e01_11ed_9a14_204ef6780f12row4_col0\" class=\"data row4 col0\" >2.950000</td>\n",
       "                        <td id=\"T_e0c11aae_4e01_11ed_9a14_204ef6780f12row4_col1\" class=\"data row4 col1\" >3.050000</td>\n",
       "                        <td id=\"T_e0c11aae_4e01_11ed_9a14_204ef6780f12row4_col2\" class=\"data row4 col2\" >2.700000</td>\n",
       "                        <td id=\"T_e0c11aae_4e01_11ed_9a14_204ef6780f12row4_col3\" class=\"data row4 col3\" >2.950000</td>\n",
       "                        <td id=\"T_e0c11aae_4e01_11ed_9a14_204ef6780f12row4_col4\" class=\"data row4 col4\" >2.200000</td>\n",
       "                        <td id=\"T_e0c11aae_4e01_11ed_9a14_204ef6780f12row4_col5\" class=\"data row4 col5\" >1.850000</td>\n",
       "                        <td id=\"T_e0c11aae_4e01_11ed_9a14_204ef6780f12row4_col6\" class=\"data row4 col6\" >2.450000</td>\n",
       "                        <td id=\"T_e0c11aae_4e01_11ed_9a14_204ef6780f12row4_col7\" class=\"data row4 col7\" >2.550000</td>\n",
       "                        <td id=\"T_e0c11aae_4e01_11ed_9a14_204ef6780f12row4_col8\" class=\"data row4 col8\" >2.300000</td>\n",
       "                        <td id=\"T_e0c11aae_4e01_11ed_9a14_204ef6780f12row4_col9\" class=\"data row4 col9\" >2.450000</td>\n",
       "                        <td id=\"T_e0c11aae_4e01_11ed_9a14_204ef6780f12row4_col10\" class=\"data row4 col10\" >2.250000</td>\n",
       "                        <td id=\"T_e0c11aae_4e01_11ed_9a14_204ef6780f12row4_col11\" class=\"data row4 col11\" >2.450000</td>\n",
       "                        <td id=\"T_e0c11aae_4e01_11ed_9a14_204ef6780f12row4_col12\" class=\"data row4 col12\" >2.550000</td>\n",
       "                        <td id=\"T_e0c11aae_4e01_11ed_9a14_204ef6780f12row4_col13\" class=\"data row4 col13\" >2.650000</td>\n",
       "                        <td id=\"T_e0c11aae_4e01_11ed_9a14_204ef6780f12row4_col14\" class=\"data row4 col14\" >2.950000</td>\n",
       "                        <td id=\"T_e0c11aae_4e01_11ed_9a14_204ef6780f12row4_col15\" class=\"data row4 col15\" >2.850000</td>\n",
       "                        <td id=\"T_e0c11aae_4e01_11ed_9a14_204ef6780f12row4_col16\" class=\"data row4 col16\" >2.950000</td>\n",
       "                        <td id=\"T_e0c11aae_4e01_11ed_9a14_204ef6780f12row4_col17\" class=\"data row4 col17\" >2</td>\n",
       "            </tr>\n",
       "    </tbody></table>"
      ],
      "text/plain": [
       "<pandas.io.formats.style.Styler at 0x1ba4c122f70>"
      ]
     },
     "execution_count": 20,
     "metadata": {},
     "output_type": "execute_result"
    }
   ],
   "source": [
    "# let's display cluster profiles and highlight the best coefficients in each attribute in lightgreen\n",
    "cluster_profile.style.highlight_max(color=\"lightgreen\", axis=0)"
   ]
  },
  {
   "cell_type": "markdown",
   "metadata": {},
   "source": [
    "* It is possible to see that cluster 3 has 7 attributes with the highest ratings in the group\n",
    "* Cluster 2 has 6 attributes with the highest rates \n",
    "* Cluster 1 has no attributes with the higest rates\n",
    "* Cluster 0 has four attributes with the highes rates"
   ]
  },
  {
   "cell_type": "code",
   "execution_count": 21,
   "metadata": {},
   "outputs": [
    {
     "data": {
      "text/html": [
       "<style  type=\"text/css\" >\n",
       "#T_e0cdfc07_4e01_11ed_9f42_204ef6780f12row0_col2,#T_e0cdfc07_4e01_11ed_9f42_204ef6780f12row0_col3,#T_e0cdfc07_4e01_11ed_9f42_204ef6780f12row0_col4,#T_e0cdfc07_4e01_11ed_9f42_204ef6780f12row0_col5,#T_e0cdfc07_4e01_11ed_9f42_204ef6780f12row0_col7,#T_e0cdfc07_4e01_11ed_9f42_204ef6780f12row0_col10,#T_e0cdfc07_4e01_11ed_9f42_204ef6780f12row0_col12,#T_e0cdfc07_4e01_11ed_9f42_204ef6780f12row0_col17,#T_e0cdfc07_4e01_11ed_9f42_204ef6780f12row3_col6,#T_e0cdfc07_4e01_11ed_9f42_204ef6780f12row3_col9,#T_e0cdfc07_4e01_11ed_9f42_204ef6780f12row3_col17,#T_e0cdfc07_4e01_11ed_9f42_204ef6780f12row4_col0,#T_e0cdfc07_4e01_11ed_9f42_204ef6780f12row4_col1,#T_e0cdfc07_4e01_11ed_9f42_204ef6780f12row4_col8,#T_e0cdfc07_4e01_11ed_9f42_204ef6780f12row4_col11,#T_e0cdfc07_4e01_11ed_9f42_204ef6780f12row4_col13,#T_e0cdfc07_4e01_11ed_9f42_204ef6780f12row4_col14,#T_e0cdfc07_4e01_11ed_9f42_204ef6780f12row4_col15,#T_e0cdfc07_4e01_11ed_9f42_204ef6780f12row4_col16{\n",
       "            background-color:  lightgreen;\n",
       "        }</style><table id=\"T_e0cdfc07_4e01_11ed_9f42_204ef6780f12\" ><thead>    <tr>        <th class=\"blank level0\" ></th>        <th class=\"col_heading level0 col0\" >Rich full-bodied taste</th>        <th class=\"col_heading level0 col1\" >Good taste</th>        <th class=\"col_heading level0 col2\" >No aftertaste</th>        <th class=\"col_heading level0 col3\" >Refreshing</th>        <th class=\"col_heading level0 col4\" >Light</th>        <th class=\"col_heading level0 col5\" >Lower price</th>        <th class=\"col_heading level0 col6\" >Good value for money</th>        <th class=\"col_heading level0 col7\" >Prestigious-popular</th>        <th class=\"col_heading level0 col8\" >Masculine</th>        <th class=\"col_heading level0 col9\" >Country with brewing tradition</th>        <th class=\"col_heading level0 col10\" >For young people</th>        <th class=\"col_heading level0 col11\" >Gives buzz</th>        <th class=\"col_heading level0 col12\" >Drink at picnics & outings</th>        <th class=\"col_heading level0 col13\" >Drink at bar</th>        <th class=\"col_heading level0 col14\" >Drink with friends</th>        <th class=\"col_heading level0 col15\" >For  home after work</th>        <th class=\"col_heading level0 col16\" >To serve guests at home</th>        <th class=\"col_heading level0 col17\" >count_in_each_segment</th>    </tr>    <tr>        <th class=\"index_name level0\" >K_means_segments</th>        <th class=\"blank\" ></th>        <th class=\"blank\" ></th>        <th class=\"blank\" ></th>        <th class=\"blank\" ></th>        <th class=\"blank\" ></th>        <th class=\"blank\" ></th>        <th class=\"blank\" ></th>        <th class=\"blank\" ></th>        <th class=\"blank\" ></th>        <th class=\"blank\" ></th>        <th class=\"blank\" ></th>        <th class=\"blank\" ></th>        <th class=\"blank\" ></th>        <th class=\"blank\" ></th>        <th class=\"blank\" ></th>        <th class=\"blank\" ></th>        <th class=\"blank\" ></th>        <th class=\"blank\" ></th>    </tr></thead><tbody>\n",
       "                <tr>\n",
       "                        <th id=\"T_e0cdfc07_4e01_11ed_9f42_204ef6780f12level0_row0\" class=\"row_heading level0 row0\" >0</th>\n",
       "                        <td id=\"T_e0cdfc07_4e01_11ed_9f42_204ef6780f12row0_col0\" class=\"data row0 col0\" >3.800000</td>\n",
       "                        <td id=\"T_e0cdfc07_4e01_11ed_9f42_204ef6780f12row0_col1\" class=\"data row0 col1\" >3.900000</td>\n",
       "                        <td id=\"T_e0cdfc07_4e01_11ed_9f42_204ef6780f12row0_col2\" class=\"data row0 col2\" >2.300000</td>\n",
       "                        <td id=\"T_e0cdfc07_4e01_11ed_9f42_204ef6780f12row0_col3\" class=\"data row0 col3\" >2.800000</td>\n",
       "                        <td id=\"T_e0cdfc07_4e01_11ed_9f42_204ef6780f12row0_col4\" class=\"data row0 col4\" >1.300000</td>\n",
       "                        <td id=\"T_e0cdfc07_4e01_11ed_9f42_204ef6780f12row0_col5\" class=\"data row0 col5\" >1.600000</td>\n",
       "                        <td id=\"T_e0cdfc07_4e01_11ed_9f42_204ef6780f12row0_col6\" class=\"data row0 col6\" >2.700000</td>\n",
       "                        <td id=\"T_e0cdfc07_4e01_11ed_9f42_204ef6780f12row0_col7\" class=\"data row0 col7\" >2.500000</td>\n",
       "                        <td id=\"T_e0cdfc07_4e01_11ed_9f42_204ef6780f12row0_col8\" class=\"data row0 col8\" >3.900000</td>\n",
       "                        <td id=\"T_e0cdfc07_4e01_11ed_9f42_204ef6780f12row0_col9\" class=\"data row0 col9\" >3.300000</td>\n",
       "                        <td id=\"T_e0cdfc07_4e01_11ed_9f42_204ef6780f12row0_col10\" class=\"data row0 col10\" >1.800000</td>\n",
       "                        <td id=\"T_e0cdfc07_4e01_11ed_9f42_204ef6780f12row0_col11\" class=\"data row0 col11\" >3.100000</td>\n",
       "                        <td id=\"T_e0cdfc07_4e01_11ed_9f42_204ef6780f12row0_col12\" class=\"data row0 col12\" >2.400000</td>\n",
       "                        <td id=\"T_e0cdfc07_4e01_11ed_9f42_204ef6780f12row0_col13\" class=\"data row0 col13\" >3.700000</td>\n",
       "                        <td id=\"T_e0cdfc07_4e01_11ed_9f42_204ef6780f12row0_col14\" class=\"data row0 col14\" >3.500000</td>\n",
       "                        <td id=\"T_e0cdfc07_4e01_11ed_9f42_204ef6780f12row0_col15\" class=\"data row0 col15\" >3.800000</td>\n",
       "                        <td id=\"T_e0cdfc07_4e01_11ed_9f42_204ef6780f12row0_col16\" class=\"data row0 col16\" >3.100000</td>\n",
       "                        <td id=\"T_e0cdfc07_4e01_11ed_9f42_204ef6780f12row0_col17\" class=\"data row0 col17\" >1</td>\n",
       "            </tr>\n",
       "            <tr>\n",
       "                        <th id=\"T_e0cdfc07_4e01_11ed_9f42_204ef6780f12level0_row1\" class=\"row_heading level0 row1\" >1</th>\n",
       "                        <td id=\"T_e0cdfc07_4e01_11ed_9f42_204ef6780f12row1_col0\" class=\"data row1 col0\" >3.425000</td>\n",
       "                        <td id=\"T_e0cdfc07_4e01_11ed_9f42_204ef6780f12row1_col1\" class=\"data row1 col1\" >3.650000</td>\n",
       "                        <td id=\"T_e0cdfc07_4e01_11ed_9f42_204ef6780f12row1_col2\" class=\"data row1 col2\" >3.100000</td>\n",
       "                        <td id=\"T_e0cdfc07_4e01_11ed_9f42_204ef6780f12row1_col3\" class=\"data row1 col3\" >3.575000</td>\n",
       "                        <td id=\"T_e0cdfc07_4e01_11ed_9f42_204ef6780f12row1_col4\" class=\"data row1 col4\" >2.650000</td>\n",
       "                        <td id=\"T_e0cdfc07_4e01_11ed_9f42_204ef6780f12row1_col5\" class=\"data row1 col5\" >2.100000</td>\n",
       "                        <td id=\"T_e0cdfc07_4e01_11ed_9f42_204ef6780f12row1_col6\" class=\"data row1 col6\" >2.950000</td>\n",
       "                        <td id=\"T_e0cdfc07_4e01_11ed_9f42_204ef6780f12row1_col7\" class=\"data row1 col7\" >3.125000</td>\n",
       "                        <td id=\"T_e0cdfc07_4e01_11ed_9f42_204ef6780f12row1_col8\" class=\"data row1 col8\" >2.775000</td>\n",
       "                        <td id=\"T_e0cdfc07_4e01_11ed_9f42_204ef6780f12row1_col9\" class=\"data row1 col9\" >2.900000</td>\n",
       "                        <td id=\"T_e0cdfc07_4e01_11ed_9f42_204ef6780f12row1_col10\" class=\"data row1 col10\" >2.600000</td>\n",
       "                        <td id=\"T_e0cdfc07_4e01_11ed_9f42_204ef6780f12row1_col11\" class=\"data row1 col11\" >2.550000</td>\n",
       "                        <td id=\"T_e0cdfc07_4e01_11ed_9f42_204ef6780f12row1_col12\" class=\"data row1 col12\" >3.375000</td>\n",
       "                        <td id=\"T_e0cdfc07_4e01_11ed_9f42_204ef6780f12row1_col13\" class=\"data row1 col13\" >3.425000</td>\n",
       "                        <td id=\"T_e0cdfc07_4e01_11ed_9f42_204ef6780f12row1_col14\" class=\"data row1 col14\" >3.550000</td>\n",
       "                        <td id=\"T_e0cdfc07_4e01_11ed_9f42_204ef6780f12row1_col15\" class=\"data row1 col15\" >3.400000</td>\n",
       "                        <td id=\"T_e0cdfc07_4e01_11ed_9f42_204ef6780f12row1_col16\" class=\"data row1 col16\" >3.475000</td>\n",
       "                        <td id=\"T_e0cdfc07_4e01_11ed_9f42_204ef6780f12row1_col17\" class=\"data row1 col17\" >4</td>\n",
       "            </tr>\n",
       "            <tr>\n",
       "                        <th id=\"T_e0cdfc07_4e01_11ed_9f42_204ef6780f12level0_row2\" class=\"row_heading level0 row2\" >2</th>\n",
       "                        <td id=\"T_e0cdfc07_4e01_11ed_9f42_204ef6780f12row2_col0\" class=\"data row2 col0\" >3.566667</td>\n",
       "                        <td id=\"T_e0cdfc07_4e01_11ed_9f42_204ef6780f12row2_col1\" class=\"data row2 col1\" >3.633333</td>\n",
       "                        <td id=\"T_e0cdfc07_4e01_11ed_9f42_204ef6780f12row2_col2\" class=\"data row2 col2\" >2.800000</td>\n",
       "                        <td id=\"T_e0cdfc07_4e01_11ed_9f42_204ef6780f12row2_col3\" class=\"data row2 col3\" >3.266667</td>\n",
       "                        <td id=\"T_e0cdfc07_4e01_11ed_9f42_204ef6780f12row2_col4\" class=\"data row2 col4\" >2.066667</td>\n",
       "                        <td id=\"T_e0cdfc07_4e01_11ed_9f42_204ef6780f12row2_col5\" class=\"data row2 col5\" >1.633333</td>\n",
       "                        <td id=\"T_e0cdfc07_4e01_11ed_9f42_204ef6780f12row2_col6\" class=\"data row2 col6\" >2.400000</td>\n",
       "                        <td id=\"T_e0cdfc07_4e01_11ed_9f42_204ef6780f12row2_col7\" class=\"data row2 col7\" >3.133333</td>\n",
       "                        <td id=\"T_e0cdfc07_4e01_11ed_9f42_204ef6780f12row2_col8\" class=\"data row2 col8\" >2.833333</td>\n",
       "                        <td id=\"T_e0cdfc07_4e01_11ed_9f42_204ef6780f12row2_col9\" class=\"data row2 col9\" >3.400000</td>\n",
       "                        <td id=\"T_e0cdfc07_4e01_11ed_9f42_204ef6780f12row2_col10\" class=\"data row2 col10\" >2.533333</td>\n",
       "                        <td id=\"T_e0cdfc07_4e01_11ed_9f42_204ef6780f12row2_col11\" class=\"data row2 col11\" >2.933333</td>\n",
       "                        <td id=\"T_e0cdfc07_4e01_11ed_9f42_204ef6780f12row2_col12\" class=\"data row2 col12\" >3.166667</td>\n",
       "                        <td id=\"T_e0cdfc07_4e01_11ed_9f42_204ef6780f12row2_col13\" class=\"data row2 col13\" >3.433333</td>\n",
       "                        <td id=\"T_e0cdfc07_4e01_11ed_9f42_204ef6780f12row2_col14\" class=\"data row2 col14\" >3.533333</td>\n",
       "                        <td id=\"T_e0cdfc07_4e01_11ed_9f42_204ef6780f12row2_col15\" class=\"data row2 col15\" >3.466667</td>\n",
       "                        <td id=\"T_e0cdfc07_4e01_11ed_9f42_204ef6780f12row2_col16\" class=\"data row2 col16\" >3.533333</td>\n",
       "                        <td id=\"T_e0cdfc07_4e01_11ed_9f42_204ef6780f12row2_col17\" class=\"data row2 col17\" >3</td>\n",
       "            </tr>\n",
       "            <tr>\n",
       "                        <th id=\"T_e0cdfc07_4e01_11ed_9f42_204ef6780f12level0_row3\" class=\"row_heading level0 row3\" >3</th>\n",
       "                        <td id=\"T_e0cdfc07_4e01_11ed_9f42_204ef6780f12row3_col0\" class=\"data row3 col0\" >3.500000</td>\n",
       "                        <td id=\"T_e0cdfc07_4e01_11ed_9f42_204ef6780f12row3_col1\" class=\"data row3 col1\" >3.500000</td>\n",
       "                        <td id=\"T_e0cdfc07_4e01_11ed_9f42_204ef6780f12row3_col2\" class=\"data row3 col2\" >2.900000</td>\n",
       "                        <td id=\"T_e0cdfc07_4e01_11ed_9f42_204ef6780f12row3_col3\" class=\"data row3 col3\" >3.300000</td>\n",
       "                        <td id=\"T_e0cdfc07_4e01_11ed_9f42_204ef6780f12row3_col4\" class=\"data row3 col4\" >1.800000</td>\n",
       "                        <td id=\"T_e0cdfc07_4e01_11ed_9f42_204ef6780f12row3_col5\" class=\"data row3 col5\" >2.200000</td>\n",
       "                        <td id=\"T_e0cdfc07_4e01_11ed_9f42_204ef6780f12row3_col6\" class=\"data row3 col6\" >2.000000</td>\n",
       "                        <td id=\"T_e0cdfc07_4e01_11ed_9f42_204ef6780f12row3_col7\" class=\"data row3 col7\" >3.100000</td>\n",
       "                        <td id=\"T_e0cdfc07_4e01_11ed_9f42_204ef6780f12row3_col8\" class=\"data row3 col8\" >3.300000</td>\n",
       "                        <td id=\"T_e0cdfc07_4e01_11ed_9f42_204ef6780f12row3_col9\" class=\"data row3 col9\" >2.300000</td>\n",
       "                        <td id=\"T_e0cdfc07_4e01_11ed_9f42_204ef6780f12row3_col10\" class=\"data row3 col10\" >2.100000</td>\n",
       "                        <td id=\"T_e0cdfc07_4e01_11ed_9f42_204ef6780f12row3_col11\" class=\"data row3 col11\" >2.900000</td>\n",
       "                        <td id=\"T_e0cdfc07_4e01_11ed_9f42_204ef6780f12row3_col12\" class=\"data row3 col12\" >3.300000</td>\n",
       "                        <td id=\"T_e0cdfc07_4e01_11ed_9f42_204ef6780f12row3_col13\" class=\"data row3 col13\" >3.100000</td>\n",
       "                        <td id=\"T_e0cdfc07_4e01_11ed_9f42_204ef6780f12row3_col14\" class=\"data row3 col14\" >3.500000</td>\n",
       "                        <td id=\"T_e0cdfc07_4e01_11ed_9f42_204ef6780f12row3_col15\" class=\"data row3 col15\" >3.200000</td>\n",
       "                        <td id=\"T_e0cdfc07_4e01_11ed_9f42_204ef6780f12row3_col16\" class=\"data row3 col16\" >3.000000</td>\n",
       "                        <td id=\"T_e0cdfc07_4e01_11ed_9f42_204ef6780f12row3_col17\" class=\"data row3 col17\" >1</td>\n",
       "            </tr>\n",
       "            <tr>\n",
       "                        <th id=\"T_e0cdfc07_4e01_11ed_9f42_204ef6780f12level0_row4\" class=\"row_heading level0 row4\" >4</th>\n",
       "                        <td id=\"T_e0cdfc07_4e01_11ed_9f42_204ef6780f12row4_col0\" class=\"data row4 col0\" >2.950000</td>\n",
       "                        <td id=\"T_e0cdfc07_4e01_11ed_9f42_204ef6780f12row4_col1\" class=\"data row4 col1\" >3.050000</td>\n",
       "                        <td id=\"T_e0cdfc07_4e01_11ed_9f42_204ef6780f12row4_col2\" class=\"data row4 col2\" >2.700000</td>\n",
       "                        <td id=\"T_e0cdfc07_4e01_11ed_9f42_204ef6780f12row4_col3\" class=\"data row4 col3\" >2.950000</td>\n",
       "                        <td id=\"T_e0cdfc07_4e01_11ed_9f42_204ef6780f12row4_col4\" class=\"data row4 col4\" >2.200000</td>\n",
       "                        <td id=\"T_e0cdfc07_4e01_11ed_9f42_204ef6780f12row4_col5\" class=\"data row4 col5\" >1.850000</td>\n",
       "                        <td id=\"T_e0cdfc07_4e01_11ed_9f42_204ef6780f12row4_col6\" class=\"data row4 col6\" >2.450000</td>\n",
       "                        <td id=\"T_e0cdfc07_4e01_11ed_9f42_204ef6780f12row4_col7\" class=\"data row4 col7\" >2.550000</td>\n",
       "                        <td id=\"T_e0cdfc07_4e01_11ed_9f42_204ef6780f12row4_col8\" class=\"data row4 col8\" >2.300000</td>\n",
       "                        <td id=\"T_e0cdfc07_4e01_11ed_9f42_204ef6780f12row4_col9\" class=\"data row4 col9\" >2.450000</td>\n",
       "                        <td id=\"T_e0cdfc07_4e01_11ed_9f42_204ef6780f12row4_col10\" class=\"data row4 col10\" >2.250000</td>\n",
       "                        <td id=\"T_e0cdfc07_4e01_11ed_9f42_204ef6780f12row4_col11\" class=\"data row4 col11\" >2.450000</td>\n",
       "                        <td id=\"T_e0cdfc07_4e01_11ed_9f42_204ef6780f12row4_col12\" class=\"data row4 col12\" >2.550000</td>\n",
       "                        <td id=\"T_e0cdfc07_4e01_11ed_9f42_204ef6780f12row4_col13\" class=\"data row4 col13\" >2.650000</td>\n",
       "                        <td id=\"T_e0cdfc07_4e01_11ed_9f42_204ef6780f12row4_col14\" class=\"data row4 col14\" >2.950000</td>\n",
       "                        <td id=\"T_e0cdfc07_4e01_11ed_9f42_204ef6780f12row4_col15\" class=\"data row4 col15\" >2.850000</td>\n",
       "                        <td id=\"T_e0cdfc07_4e01_11ed_9f42_204ef6780f12row4_col16\" class=\"data row4 col16\" >2.950000</td>\n",
       "                        <td id=\"T_e0cdfc07_4e01_11ed_9f42_204ef6780f12row4_col17\" class=\"data row4 col17\" >2</td>\n",
       "            </tr>\n",
       "    </tbody></table>"
      ],
      "text/plain": [
       "<pandas.io.formats.style.Styler at 0x1ba4c38a670>"
      ]
     },
     "execution_count": 21,
     "metadata": {},
     "output_type": "execute_result"
    }
   ],
   "source": [
    "# let's display cluster profiles and highlight the worst coefficients in each attribute in lightgreen\n",
    "cluster_profile.style.highlight_min(color=\"lightgreen\", axis=0)"
   ]
  },
  {
   "cell_type": "code",
   "execution_count": 22,
   "metadata": {},
   "outputs": [
    {
     "data": {
      "image/png": "[encoded data removed]",
      "text/plain": [
       "<Figure size 1152x432 with 5 Axes>"
      ]
     },
     "metadata": {},
     "output_type": "display_data"
    }
   ],
   "source": [
    "fig, axes = plt.subplots(1, 5, figsize=(16, 6))\n",
    "fig.suptitle(\"Boxplot of numerical variables for each cluster\")\n",
    "counter = 0\n",
    "for ii in range(5):\n",
    "    sns.boxplot(ax=axes[ii], y=df[num_col[counter]], x=df[\"K_means_segments\"])\n",
    "    counter = counter + 1\n",
    "\n",
    "fig.tight_layout(pad=2.0)"
   ]
  },
  {
   "cell_type": "markdown",
   "metadata": {},
   "source": [
    "* Boxplots confirm the previous observations: cluster 3 has ratings higher than other Clusters in most segments.\n"
   ]
  },
  {
   "cell_type": "code",
   "execution_count": 23,
   "metadata": {},
   "outputs": [
    {
     "data": {
      "text/plain": [
       "<matplotlib.legend.Legend at 0x1ba4c88aa00>"
      ]
     },
     "execution_count": 23,
     "metadata": {},
     "output_type": "execute_result"
    },
    {
     "data": {
      "image/png": "[encoded data removed]",
      "text/plain": [
       "<Figure size 1080x432 with 1 Axes>"
      ]
     },
     "metadata": {},
     "output_type": "display_data"
    }
   ],
   "source": [
    "df.groupby(\"K_means_segments\").mean().plot.bar(figsize=(15, 6))\n",
    "plt.legend(bbox_to_anchor=(1.0, 1.0))"
   ]
  },
  {
   "cell_type": "markdown",
   "metadata": {},
   "source": [
    "* The barplots show the average score of each attribute in the different groups.Even though there are lots of attributes to see, some insights can be drawn fro the graphs.\n",
    "* Group 0 has one of the lowest scores on Lower Price, which includes the cheapest beers. Three Brands are part of this group, including Kirin.\n",
    "* Group 1 has no beer with score above 3.0 in any category, while the lowest score in all categories is still above all other clusters (Lower Price). This group includes only 2 Brands.\n",
    "* Group 2 has very high rates in some categories, but at the same time very low rates in others, which makes it \"very special\" product for one segment and include only one Brand \"Bass\".\n",
    "* Group 3 has the highest numbers of Brands and highest scores in most attributes. The customers acceptability is higher and include the \"famous\" international Names. "
   ]
  },
  {
   "cell_type": "code",
   "execution_count": 28,
   "metadata": {},
   "outputs": [
    {
     "data": {
      "text/html": [
       "<div>\n",
       "<style scoped>\n",
       "    .dataframe tbody tr th:only-of-type {\n",
       "        vertical-align: middle;\n",
       "    }\n",
       "\n",
       "    .dataframe tbody tr th {\n",
       "        vertical-align: top;\n",
       "    }\n",
       "\n",
       "    .dataframe thead th {\n",
       "        text-align: right;\n",
       "    }\n",
       "</style>\n",
       "<table border=\"1\" class=\"dataframe\">\n",
       "  <thead>\n",
       "    <tr style=\"text-align: right;\">\n",
       "      <th></th>\n",
       "      <th>Brands</th>\n",
       "      <th>Rich full-bodied taste</th>\n",
       "      <th>Good taste</th>\n",
       "      <th>No aftertaste</th>\n",
       "      <th>Refreshing</th>\n",
       "      <th>Light</th>\n",
       "      <th>Lower price</th>\n",
       "      <th>Good value for money</th>\n",
       "      <th>Prestigious-popular</th>\n",
       "      <th>Masculine</th>\n",
       "      <th>Country with brewing tradition</th>\n",
       "      <th>For young people</th>\n",
       "      <th>Gives buzz</th>\n",
       "      <th>Drink at picnics &amp; outings</th>\n",
       "      <th>Drink at bar</th>\n",
       "      <th>Drink with friends</th>\n",
       "      <th>For  home after work</th>\n",
       "      <th>To serve guests at home</th>\n",
       "      <th>K_means_segments</th>\n",
       "    </tr>\n",
       "  </thead>\n",
       "  <tbody>\n",
       "    <tr>\n",
       "      <th>6</th>\n",
       "      <td>Kirin</td>\n",
       "      <td>3.6</td>\n",
       "      <td>3.6</td>\n",
       "      <td>2.7</td>\n",
       "      <td>3.3</td>\n",
       "      <td>2.3</td>\n",
       "      <td>1.8</td>\n",
       "      <td>2.6</td>\n",
       "      <td>3.1</td>\n",
       "      <td>3.0</td>\n",
       "      <td>3.5</td>\n",
       "      <td>2.4</td>\n",
       "      <td>2.8</td>\n",
       "      <td>3.1</td>\n",
       "      <td>3.4</td>\n",
       "      <td>3.5</td>\n",
       "      <td>3.5</td>\n",
       "      <td>3.5</td>\n",
       "      <td>2</td>\n",
       "    </tr>\n",
       "  </tbody>\n",
       "</table>\n",
       "</div>"
      ],
      "text/plain": [
       "  Brands  Rich full-bodied taste  Good taste  No aftertaste  Refreshing  \\\n",
       "6  Kirin                     3.6         3.6            2.7         3.3   \n",
       "\n",
       "   Light  Lower price  Good value for money  Prestigious-popular  Masculine  \\\n",
       "6    2.3          1.8                   2.6                  3.1        3.0   \n",
       "\n",
       "   Country with brewing tradition  For young people  Gives buzz  \\\n",
       "6                             3.5               2.4         2.8   \n",
       "\n",
       "   Drink at picnics & outings  Drink at bar  Drink with friends  \\\n",
       "6                         3.1           3.4                 3.5   \n",
       "\n",
       "   For  home after work  To serve guests at home  K_means_segments  \n",
       "6                   3.5                      3.5                 2  "
      ]
     },
     "execution_count": 28,
     "metadata": {},
     "output_type": "execute_result"
    }
   ],
   "source": [
    "#Individual attributes values for Kirin\n",
    "df.loc[df['Brands'] == 'Kirin']"
   ]
  },
  {
   "cell_type": "code",
   "execution_count": 27,
   "metadata": {},
   "outputs": [
    {
     "data": {
      "text/html": [
       "<div>\n",
       "<style scoped>\n",
       "    .dataframe tbody tr th:only-of-type {\n",
       "        vertical-align: middle;\n",
       "    }\n",
       "\n",
       "    .dataframe tbody tr th {\n",
       "        vertical-align: top;\n",
       "    }\n",
       "\n",
       "    .dataframe thead th {\n",
       "        text-align: right;\n",
       "    }\n",
       "</style>\n",
       "<table border=\"1\" class=\"dataframe\">\n",
       "  <thead>\n",
       "    <tr style=\"text-align: right;\">\n",
       "      <th></th>\n",
       "      <th>Brands</th>\n",
       "      <th>K_means_segments</th>\n",
       "    </tr>\n",
       "  </thead>\n",
       "  <tbody>\n",
       "    <tr>\n",
       "      <th>0</th>\n",
       "      <td>Amstel Light</td>\n",
       "      <td>1</td>\n",
       "    </tr>\n",
       "    <tr>\n",
       "      <th>1</th>\n",
       "      <td>Bass</td>\n",
       "      <td>0</td>\n",
       "    </tr>\n",
       "    <tr>\n",
       "      <th>2</th>\n",
       "      <td>Becks</td>\n",
       "      <td>2</td>\n",
       "    </tr>\n",
       "    <tr>\n",
       "      <th>3</th>\n",
       "      <td>Corona</td>\n",
       "      <td>1</td>\n",
       "    </tr>\n",
       "    <tr>\n",
       "      <th>4</th>\n",
       "      <td>Dos Equis</td>\n",
       "      <td>1</td>\n",
       "    </tr>\n",
       "    <tr>\n",
       "      <th>5</th>\n",
       "      <td>Heineken</td>\n",
       "      <td>3</td>\n",
       "    </tr>\n",
       "    <tr>\n",
       "      <th>6</th>\n",
       "      <td>Kirin</td>\n",
       "      <td>2</td>\n",
       "    </tr>\n",
       "    <tr>\n",
       "      <th>7</th>\n",
       "      <td>Molson</td>\n",
       "      <td>4</td>\n",
       "    </tr>\n",
       "    <tr>\n",
       "      <th>8</th>\n",
       "      <td>Moosehd</td>\n",
       "      <td>1</td>\n",
       "    </tr>\n",
       "    <tr>\n",
       "      <th>9</th>\n",
       "      <td>Sapporo</td>\n",
       "      <td>2</td>\n",
       "    </tr>\n",
       "    <tr>\n",
       "      <th>10</th>\n",
       "      <td>St. Pauli</td>\n",
       "      <td>4</td>\n",
       "    </tr>\n",
       "  </tbody>\n",
       "</table>\n",
       "</div>"
      ],
      "text/plain": [
       "          Brands  K_means_segments\n",
       "0   Amstel Light                 1\n",
       "1           Bass                 0\n",
       "2          Becks                 2\n",
       "3         Corona                 1\n",
       "4      Dos Equis                 1\n",
       "5       Heineken                 3\n",
       "6          Kirin                 2\n",
       "7         Molson                 4\n",
       "8        Moosehd                 1\n",
       "9        Sapporo                 2\n",
       "10     St. Pauli                 4"
      ]
     },
     "execution_count": 27,
     "metadata": {},
     "output_type": "execute_result"
    }
   ],
   "source": [
    "#Segment number for each beer\n",
    "df[['Brands','K_means_segments']]"
   ]
  },
  {
   "cell_type": "markdown",
   "metadata": {},
   "source": [
    "#### Conclusion\n",
    "    Kirin top scores include: \n",
    "    => Prestigious-popular, \n",
    "    => Country with brewing tradition, \n",
    "    => For young people\n",
    "    while the worst score include:\n",
    "    => Good value for money\n",
    "\n",
    "Based on the segmentation, Kirin seems to be more attractive to younger people with lower budget value. It is seen as a popular Brand but score value was tight with group 3, which includes the top global Brands, therefore it seems like Kirin recognition is in the same level as Heineken, Corona & Co. \n"
   ]
  },
  {
   "cell_type": "markdown",
   "metadata": {},
   "source": [
    "### In order to define a target segment for marketing it is necessary to check the next analysis related to Segmentation."
   ]
  },
  {
   "cell_type": "code",
   "execution_count": null,
   "metadata": {},
   "outputs": [],
   "source": []
  }
 ],
 "metadata": {
  "kernelspec": {
   "display_name": "Python 3",
   "language": "python",
   "name": "python3"
  },
  "language_info": {
   "codemirror_mode": {
    "name": "ipython",
    "version": 3
   },
   "file_extension": ".py",
   "mimetype": "text/x-python",
   "name": "python",
   "nbconvert_exporter": "python",
   "pygments_lexer": "ipython3",
   "version": "3.8.5"
  }
 },
 "nbformat": 4,
 "nbformat_minor": 4
}
